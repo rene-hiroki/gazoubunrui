{
  "nbformat": 4,
  "nbformat_minor": 0,
  "metadata": {
    "colab": {
      "name": "画像分類.ipynb",
      "provenance": [],
      "collapsed_sections": [],
      "toc_visible": true,
      "mount_file_id": "https://github.com/rene-hiroki/gazoubunrui/blob/master/%E7%94%BB%E5%83%8F%E5%88%86%E9%A1%9E.ipynb",
      "authorship_tag": "ABX9TyMpFDNBn6M38UdAyfK2ml+a",
      "include_colab_link": true
    },
    "kernelspec": {
      "name": "python3",
      "display_name": "Python 3"
    }
  },
  "cells": [
    {
      "cell_type": "markdown",
      "metadata": {
        "id": "view-in-github",
        "colab_type": "text"
      },
      "source": [
        "<a href=\"https://colab.research.google.com/github/rene-hiroki/gazoubunrui/blob/master/%E7%94%BB%E5%83%8F%E5%88%86%E9%A1%9E.ipynb\" target=\"_parent\"><img src=\"https://colab.research.google.com/assets/colab-badge.svg\" alt=\"Open In Colab\"/></a>"
      ]
    },
    {
      "cell_type": "markdown",
      "metadata": {
        "id": "BbvzmTD5UdvN",
        "colab_type": "text"
      },
      "source": [
        "# 画像分類"
      ]
    },
    {
      "cell_type": "code",
      "metadata": {
        "id": "ZuPiTlXJI3eY",
        "colab_type": "code",
        "colab": {
          "base_uri": "https://localhost:8080/",
          "height": 203
        },
        "outputId": "df4508f7-7749-48a0-89b5-57b7443131c8"
      },
      "source": [
        "# ライブラリのインストール\n",
        "!pip install icrawler"
      ],
      "execution_count": 1,
      "outputs": [
        {
          "output_type": "stream",
          "text": [
            "Requirement already satisfied: icrawler in /usr/local/lib/python3.6/dist-packages (0.6.3)\n",
            "Requirement already satisfied: lxml in /usr/local/lib/python3.6/dist-packages (from icrawler) (4.2.6)\n",
            "Requirement already satisfied: Pillow in /usr/local/lib/python3.6/dist-packages (from icrawler) (7.0.0)\n",
            "Requirement already satisfied: six>=1.10.0 in /usr/local/lib/python3.6/dist-packages (from icrawler) (1.15.0)\n",
            "Requirement already satisfied: requests>=2.9.1 in /usr/local/lib/python3.6/dist-packages (from icrawler) (2.23.0)\n",
            "Requirement already satisfied: beautifulsoup4>=4.4.1 in /usr/local/lib/python3.6/dist-packages (from icrawler) (4.6.3)\n",
            "Requirement already satisfied: chardet<4,>=3.0.2 in /usr/local/lib/python3.6/dist-packages (from requests>=2.9.1->icrawler) (3.0.4)\n",
            "Requirement already satisfied: urllib3!=1.25.0,!=1.25.1,<1.26,>=1.21.1 in /usr/local/lib/python3.6/dist-packages (from requests>=2.9.1->icrawler) (1.24.3)\n",
            "Requirement already satisfied: idna<3,>=2.5 in /usr/local/lib/python3.6/dist-packages (from requests>=2.9.1->icrawler) (2.10)\n",
            "Requirement already satisfied: certifi>=2017.4.17 in /usr/local/lib/python3.6/dist-packages (from requests>=2.9.1->icrawler) (2020.6.20)\n"
          ],
          "name": "stdout"
        }
      ]
    },
    {
      "cell_type": "code",
      "metadata": {
        "id": "5X15gdxmSSzZ",
        "colab_type": "code",
        "colab": {
          "base_uri": "https://localhost:8080/",
          "height": 50
        },
        "outputId": "c4516b71-6427-4610-c99f-4973f2df625e"
      },
      "source": [
        "# 画像を保存するフォルダに移動\n",
        "# pathは適宜変える\n",
        "%cd drive/My Drive/gazo2020/original_data\n",
        "!pwd"
      ],
      "execution_count": 2,
      "outputs": [
        {
          "output_type": "stream",
          "text": [
            "/content/drive/My Drive/gazo2020/original_data\n",
            "/content/drive/My Drive/gazo2020/original_data\n"
          ],
          "name": "stdout"
        }
      ]
    },
    {
      "cell_type": "code",
      "metadata": {
        "id": "ic4Hn0erRW-z",
        "colab_type": "code",
        "colab": {
          "base_uri": "https://localhost:8080/",
          "height": 1000
        },
        "outputId": "53c31022-aa32-4fa8-e731-5e908d54b54c"
      },
      "source": [
        "# こんな感じで書く。枚数は、max_numで指定する。\n",
        "# from icrawler.builtin import BingImageCrawler\n",
        "# crawler = BingImageCrawler(storage={\"root_dir\": \"ここと\"})\n",
        "# crawler.crawl(keyword=\"ここを変えるt\", max_num=20)\n",
        "\n",
        "from icrawler.builtin import BingImageCrawler\n",
        "crawler = BingImageCrawler(storage={\"root_dir\": \"kobe_bryant\"})\n",
        "crawler.crawl(keyword=\"kobe bryant\", max_num=20)\n",
        "\n",
        "from icrawler.builtin import BingImageCrawler\n",
        "crawler = BingImageCrawler(storage={\"root_dir\": \"stephen_curry\"})\n",
        "crawler.crawl(keyword=\"stephen curry\", max_num=20)\n",
        "\n",
        "from icrawler.builtin import BingImageCrawler\n",
        "crawler = BingImageCrawler(storage={\"root_dir\": \"russell_westbrook\"})\n",
        "crawler.crawl(keyword=\"russell westbrook\", max_num=20)"
      ],
      "execution_count": 5,
      "outputs": [
        {
          "output_type": "stream",
          "text": [
            "2020-08-26 07:00:29,136 - INFO - icrawler.crawler - start crawling...\n",
            "2020-08-26 07:00:29,137 - INFO - icrawler.crawler - starting 1 feeder threads...\n",
            "2020-08-26 07:00:29,138 - INFO - feeder - thread feeder-001 exit\n",
            "2020-08-26 07:00:29,138 - INFO - icrawler.crawler - starting 1 parser threads...\n",
            "2020-08-26 07:00:29,152 - INFO - icrawler.crawler - starting 1 downloader threads...\n",
            "2020-08-26 07:00:29,568 - INFO - parser - parsing result page https://www.bing.com/images/async?q=kobe bryant&first=0\n",
            "2020-08-26 07:00:30,052 - INFO - downloader - downloader-001 is waiting for new download tasks\n",
            "2020-08-26 07:00:30,075 - INFO - downloader - image #1\thttps://upload.wikimedia.org/wikipedia/commons/8/82/Kobe_Bryant_2015.jpg\n",
            "2020-08-26 07:00:30,404 - INFO - downloader - image #2\thttp://usatftw.files.wordpress.com/2014/11/usatsi_8180282.jpg\n",
            "2020-08-26 07:00:30,613 - INFO - downloader - image #3\thttp://i.dailymail.co.uk/i/pix/2015/11/30/02/2EE48D8D00000578-3338883-image-a-42_1448849062817.jpg\n",
            "2020-08-26 07:00:31,229 - INFO - downloader - image #4\thttp://www.thesportscol.com/wp-content/uploads/2015/10/kobebryant1.jpg\n",
            "2020-08-26 07:00:31,352 - ERROR - downloader - Response status code 404, file https://timedotcom.files.wordpress.com/2014/11/458357166.jpg\n",
            "2020-08-26 07:00:31,443 - INFO - downloader - image #5\thttps://image.cnbcfm.com/api/v1/image/101524695-457220551.jpg\n",
            "2020-08-26 07:00:31,626 - INFO - downloader - image #6\thttps://pixel.nymag.com/imgs/daily/intelligencer/2016/04/13/13-kobe-bryant-2016.w710.h473.2x.jpg\n",
            "2020-08-26 07:00:31,834 - INFO - downloader - image #7\thttps://upload.wikimedia.org/wikipedia/commons/0/05/Kobe_Bryant_warming_up.jpg\n",
            "2020-08-26 07:00:31,946 - INFO - downloader - image #8\thttps://static01.nyt.com/images/2020/01/26/sports/26kobe-hp-fader-ss-slide-YWIZ/26kobe-hp-fader-ss-slide-YWIZ-videoSixteenByNineJumbo1600-v2.jpg\n",
            "2020-08-26 07:00:32,053 - INFO - downloader - image #9\thttp://i.huffpost.com/gen/1086176/images/o-KOBE-BRYANT-facebook.jpg\n",
            "2020-08-26 07:00:32,138 - INFO - downloader - image #10\thttp://hypebeast.com/image/2015/12/kobe-bryant-christmas-0.jpg\n",
            "2020-08-26 07:00:32,179 - ERROR - downloader - Response status code 404, file https://timedotcom.files.wordpress.com/2014/11/kobe-bryant.jpg\n",
            "2020-08-26 07:00:32,370 - INFO - downloader - image #11\thttps://zaheerliesandstatistics.files.wordpress.com/2015/05/kobebryant.jpg\n",
            "2020-08-26 07:00:32,392 - INFO - downloader - image #12\thttp://i.huffpost.com/gen/2437946/images/o-KOBE-BRYANT-facebook.jpg\n",
            "2020-08-26 07:00:32,516 - INFO - downloader - image #13\thttps://sports-images.vice.com/images/articles/meta/2015/12/03/kobe-bryant-is-an-all-time-nba-great-unless-you-do-the-math-1449167714.jpg\n",
            "2020-08-26 07:00:32,627 - ERROR - downloader - Response status code 403, file https://pmcfootwearnews.files.wordpress.com/2016/04/kobe-bryant-7.jpg\n",
            "2020-08-26 07:00:32,920 - INFO - downloader - image #14\thttp://akns-images.eonline.com/eol_images/Entire_Site/20151030/rs_634x1024-151130045640-634.Kobe-Bryant.jl.113015..jpg\n",
            "2020-08-26 07:00:33,097 - INFO - downloader - image #15\thttp://static4.businessinsider.com/image/567aafadc08a8034008b4731-1084-813/kobe%20bryant.jpg\n",
            "2020-08-26 07:00:33,344 - ERROR - downloader - Response status code 504, file http://img.bleacherreport.net/img/images/photos/002/668/530/hi-res-457220551-kobe-bryant-of-the-los-angeles-lakers-stands-during-a_crop_exact.jpg\n",
            "2020-08-26 07:00:33,474 - INFO - downloader - image #16\thttps://a4.espncdn.com/combiner/i?img=%2Fphoto%2F2017%2F1218%2Fr303897_1296x729_16%2D9.jpg\n",
            "2020-08-26 07:00:33,670 - INFO - downloader - image #17\thttp://www.baconsports.com/wp-content/uploads/2013/04/kobe-bryant-greatest.jpg\n",
            "2020-08-26 07:00:33,811 - INFO - downloader - image #18\thttps://cdn1.thr.com/sites/default/files/2017/09/kobe_bryant_jersey.jpg\n",
            "2020-08-26 07:00:33,906 - INFO - downloader - image #19\thttps://sportshub.cbsistatic.com/i/r/2016/08/25/461f9cda-39c2-4b2d-a5b1-290b8f64f996/thumbnail/1200x675/6c2f61ad460a00485c49b3ef4381213f/kobebryant.jpg\n",
            "2020-08-26 07:00:34,157 - INFO - downloader - image #20\thttps://usatftw.files.wordpress.com/2016/02/kobeeee.jpg\n",
            "2020-08-26 07:00:34,235 - INFO - downloader - downloaded images reach max num, thread downloader-001 is ready to exit\n",
            "2020-08-26 07:00:34,236 - INFO - downloader - thread downloader-001 exit\n",
            "2020-08-26 07:00:35,054 - INFO - downloader - downloader-001 is waiting for new download tasks\n",
            "2020-08-26 07:00:35,161 - INFO - icrawler.crawler - Crawling task done!\n",
            "2020-08-26 07:00:35,163 - INFO - icrawler.crawler - start crawling...\n",
            "2020-08-26 07:00:35,164 - INFO - icrawler.crawler - starting 1 feeder threads...\n",
            "2020-08-26 07:00:35,170 - INFO - feeder - thread feeder-001 exit\n",
            "2020-08-26 07:00:35,170 - INFO - icrawler.crawler - starting 1 parser threads...\n",
            "2020-08-26 07:00:35,171 - INFO - parser - downloaded image reached max num, thread parser-001 is ready to exit\n",
            "2020-08-26 07:00:35,174 - INFO - parser - thread parser-001 exit\n",
            "2020-08-26 07:00:35,182 - INFO - icrawler.crawler - starting 1 downloader threads...\n",
            "2020-08-26 07:00:35,531 - INFO - parser - parsing result page https://www.bing.com/images/async?q=stephen curry&first=0\n",
            "2020-08-26 07:00:35,744 - ERROR - downloader - Response status code 404, file https://upload.wikimedia.org/wikipedia/commons/thumb/2/27/Stephen_Curry_Shooting_%28cropped%29.jpg\n",
            "2020-08-26 07:00:35,899 - INFO - downloader - image #1\thttps://images.performgroup.com/di/library/group_content_la/2a/a9/stephen-curry-golden-state-warriors-nba-finals-2018_1u17ty8yi1m6q10ytofk0uessn.jpg\n",
            "2020-08-26 07:00:36,023 - ERROR - downloader - Response status code 404, file https://fortunedotcom.files.wordpress.com/2018/12/Stephen-Curry-e1544634302245.jpg\n",
            "2020-08-26 07:00:36,294 - INFO - downloader - image #2\thttps://peopledotcom.files.wordpress.com/2019/01/gettyimages-1094801636.jpg\n",
            "2020-08-26 07:00:36,368 - INFO - downloader - image #3\thttps://peopledotcom.files.wordpress.com/2018/11/gettyimages-1064769920_1.jpg\n",
            "2020-08-26 07:00:36,751 - INFO - downloader - image #4\thttps://rakuten.today/wp-content/uploads/2019/01/NG1_1546-1.jpg\n",
            "2020-08-26 07:00:36,947 - INFO - downloader - image #5\thttps://a.espncdn.com/photo/2019/0521/r545935_1296x729_16-9.jpg\n",
            "2020-08-26 07:00:37,055 - INFO - downloader - image #6\thttp://s1.ibtimes.com/sites/www.ibtimes.com/files/styles/embed/public/2018/04/29/stephen-curry.jpg\n",
            "2020-08-26 07:00:37,081 - INFO - downloader - image #7\thttps://i.ytimg.com/vi/AmO4NRRBhF8/maxresdefault.jpg\n",
            "2020-08-26 07:00:37,185 - INFO - downloader - image #8\thttps://cdn-s3.si.com/s3fs-public/2019/05/20/stephen_curry_warriors_nba_playoffs_.jpg\n",
            "2020-08-26 07:00:37,956 - INFO - downloader - image #9\thttps://varchev.com/wp-content/uploads/2018/05/curry1.jpg\n",
            "2020-08-26 07:00:38,305 - INFO - downloader - image #10\thttps://www.mercurynews.com/wp-content/uploads/2018/11/BNG-WARRIORS-1109-120.jpg\n",
            "2020-08-26 07:00:38,832 - INFO - downloader - image #11\thttps://www.sportscasting.com/wp-content/uploads/2019/03/SC-Stephen-Curry-best-PG-Ever-GettyImages-1137590447.jpg\n",
            "2020-08-26 07:00:38,926 - INFO - downloader - image #12\thttps://a.espncdn.com/photo/2019/0603/r551314_1296x729_16-9.jpg\n",
            "2020-08-26 07:00:38,995 - ERROR - downloader - Response status code 403, file https://cdn-s3.si.com/images/stephen-curry-davidson-wisconsin.jpg\n",
            "2020-08-26 07:00:39,093 - INFO - downloader - image #13\thttps://clutchpoints.com/wp-content/uploads/2019/07/T12-4.jpg\n",
            "2020-08-26 07:00:39,212 - INFO - downloader - image #14\thttps://images.performgroup.com/di/library/sporting_news/e8/f3/stephen-curry-getty-050719-ftrjpg_1cz9wpbsr1z8u1f48re6w6mlxl.jpg\n",
            "2020-08-26 07:00:39,688 - INFO - downloader - image #15\thttps://thenypost.files.wordpress.com/2019/04/stephen-curry-1.jpg\n",
            "2020-08-26 07:00:40,055 - INFO - downloader - downloader-001 is waiting for new download tasks\n",
            "2020-08-26 07:00:40,079 - INFO - downloader - image #16\thttps://www.nbcsports.com/bayarea/sites/csnbayarea/files/2019/02/11/stephsmileusatsi.jpg\n",
            "2020-08-26 07:00:40,269 - INFO - downloader - image #17\thttps://compote.slate.com/images/b0f5d90a-141b-4828-b55b-15cfca3ce3c1.jpg\n",
            "2020-08-26 07:00:40,335 - ERROR - downloader - Response status code 403, file https://cdn-s3.si.com/images/stephen-curry-2018_0.jpg\n",
            "2020-08-26 07:00:40,366 - INFO - downloader - image #18\thttps://a.espncdn.com/photo/2019/0117/r489885_1296x729_16-9.jpg\n",
            "2020-08-26 07:00:40,480 - INFO - downloader - image #19\thttps://thenypost.files.wordpress.com/2018/12/121118-curry-1.jpg\n",
            "2020-08-26 07:00:40,622 - INFO - downloader - image #20\thttps://thenypost.files.wordpress.com/2018/06/stephen_curry.jpg\n",
            "2020-08-26 07:00:40,747 - INFO - downloader - downloaded images reach max num, thread downloader-001 is ready to exit\n",
            "2020-08-26 07:00:40,749 - INFO - downloader - thread downloader-001 exit\n",
            "2020-08-26 07:00:41,200 - INFO - icrawler.crawler - Crawling task done!\n",
            "2020-08-26 07:00:41,203 - INFO - icrawler.crawler - start crawling...\n",
            "2020-08-26 07:00:41,204 - INFO - icrawler.crawler - starting 1 feeder threads...\n",
            "2020-08-26 07:00:41,209 - INFO - feeder - thread feeder-001 exit\n",
            "2020-08-26 07:00:41,210 - INFO - icrawler.crawler - starting 1 parser threads...\n",
            "2020-08-26 07:00:41,213 - INFO - icrawler.crawler - starting 1 downloader threads...\n",
            "2020-08-26 07:00:41,490 - INFO - parser - parsing result page https://www.bing.com/images/async?q=russell westbrook&first=0\n",
            "2020-08-26 07:00:41,642 - INFO - parser - downloaded image reached max num, thread parser-001 is ready to exit\n",
            "2020-08-26 07:00:41,643 - INFO - parser - thread parser-001 exit\n",
            "2020-08-26 07:00:41,783 - INFO - downloader - image #1\thttps://peopledotcom.files.wordpress.com/2019/03/russell-westbrook.jpg\n",
            "2020-08-26 07:00:41,970 - INFO - downloader - image #2\thttps://usatftw.files.wordpress.com/2019/07/russ1.jpg\n",
            "2020-08-26 07:00:42,082 - INFO - downloader - image #3\thttps://heatnation.com/wp-content/uploads/2019/07/USATSI_12561852-e1562682858800.jpg\n",
            "2020-08-26 07:00:42,109 - INFO - downloader - image #4\thttps://heatnation.com/wp-content/uploads/2019/07/USATSI_12439090-e1562727979506.jpg\n",
            "2020-08-26 07:00:42,137 - INFO - downloader - image #5\thttps://heatnation.com/wp-content/uploads/2019/07/USATSI_12339879-e1562865163208.jpg\n",
            "2020-08-26 07:00:42,246 - ERROR - downloader - Response status code 403, file https://heavyeditorial.files.wordpress.com/2019/02/russell-westbrook-e1555451725771.jpg\n",
            "2020-08-26 07:00:42,636 - INFO - downloader - image #6\thttps://thenypost.files.wordpress.com/2019/07/russell-westbrook-rockets-thunder-trade-salary-cap.jpg\n",
            "2020-08-26 07:00:42,714 - INFO - downloader - image #7\thttps://cdn.hiptoro.com/wp-content/uploads/2019/07/Russell-Westbrook-trade-NBA-deal.jpg\n",
            "2020-08-26 07:00:42,818 - INFO - downloader - image #8\thttps://www.workers.org/wp-content/uploads/Russell-Westbrook.jpg\n",
            "2020-08-26 07:00:42,845 - INFO - downloader - image #9\thttps://heatnation.com/wp-content/uploads/2019/07/USATSI_12494851-e1562534534349.jpg\n",
            "2020-08-26 07:00:42,920 - INFO - downloader - image #10\thttps://i.kinja-img.com/gawker-media/image/upload/s--fXMkxPPZ--/c_scale,f_auto,fl_progressive,q_80,w_800/ldflxbgiyu4yec3muzcu.jpg\n",
            "2020-08-26 07:00:43,189 - INFO - downloader - image #11\thttps://peopledotcom.files.wordpress.com/2019/04/gettyimages-1134550279.jpg\n",
            "2020-08-26 07:00:43,346 - INFO - downloader - image #12\thttps://www.masslive.com/resizer/MOV5iBkBuI8tj47FZfY3WawQDV0=/1200x0/arc-anglerfish-arc2-prod-advancelocal.s3.amazonaws.com/public/53CCJD26IVHCZNK2ZN27PEP7PQ.jpg\n",
            "2020-08-26 07:00:43,518 - INFO - downloader - image #13\thttps://www.gannett-cdn.com/presto/2019/07/07/USAT/1f289366-eed8-4008-ae66-3961b7da6174-2019-07-07_Russell_Westbrook.jpg\n",
            "2020-08-26 07:00:43,634 - ERROR - downloader - Response status code 403, file https://heavyeditorial.files.wordpress.com/2018/10/gettyimages-952259344-e1539288656967.jpg\n",
            "2020-08-26 07:00:43,696 - INFO - downloader - image #14\thttps://www.gannett-cdn.com/presto/2019/07/08/PPHX/da0e9f60-a39d-4c61-b739-83608d56a938-russell-westbrook-trade-rumors.jpg\n",
            "2020-08-26 07:00:43,819 - ERROR - downloader - Response status code 403, file https://usattherocketswire.files.wordpress.com/2019/07/2196a0d0-a023-11e9-b3cc-3a40092aa154.jpg\n",
            "2020-08-26 07:00:43,849 - INFO - downloader - image #15\thttps://www.gannett-cdn.com/presto/2019/07/07/PDTN/3be989b4-5550-44b2-b6db-091d2cb61fa1-RW1.jpg\n",
            "2020-08-26 07:00:43,934 - INFO - downloader - image #16\thttps://cebudailynews.inquirer.net/files/2019/04/s0503nba.jpg\n",
            "2020-08-26 07:00:44,269 - INFO - downloader - image #17\thttps://thenypost.files.wordpress.com/2019/04/russell-westbrook.jpg\n",
            "2020-08-26 07:00:44,644 - ERROR - downloader - Response status code 403, file https://media.clickondetroit.com/photo/2019/07/09/russell westbrook _OP_1_CP__1562673447873.jpg\n",
            "2020-08-26 07:00:44,753 - INFO - downloader - image #18\thttps://static.vibe.com/files/2018/04/russell-westbrook-cotton-pickin-mind-1523541935-compressed.jpg\n",
            "2020-08-26 07:00:45,056 - INFO - downloader - downloader-001 is waiting for new download tasks\n",
            "2020-08-26 07:00:45,120 - INFO - downloader - image #19\thttps://theundefeated.com/wp-content/uploads/2019/10/Russell-Westbrook-2.jpg\n",
            "2020-08-26 07:00:45,307 - INFO - downloader - image #20\thttps://ssl.ulximg.com/public/userfiles/2018/12/westbrook.jpg\n",
            "2020-08-26 07:00:45,452 - INFO - downloader - downloaded images reach max num, thread downloader-001 is ready to exit\n",
            "2020-08-26 07:00:45,453 - INFO - downloader - thread downloader-001 exit\n",
            "2020-08-26 07:00:46,221 - INFO - icrawler.crawler - Crawling task done!\n"
          ],
          "name": "stderr"
        }
      ]
    },
    {
      "cell_type": "code",
      "metadata": {
        "id": "MIpLW7gmS8hz",
        "colab_type": "code",
        "colab": {}
      },
      "source": [
        ""
      ],
      "execution_count": null,
      "outputs": []
    },
    {
      "cell_type": "markdown",
      "metadata": {
        "id": "N2xXKhA4cyn_",
        "colab_type": "text"
      },
      "source": [
        "## 画像水増し"
      ]
    },
    {
      "cell_type": "code",
      "metadata": {
        "id": "Q-E903D4fCVF",
        "colab_type": "code",
        "colab": {
          "base_uri": "https://localhost:8080/",
          "height": 33
        },
        "outputId": "5d9b2dae-c996-4d70-d151-0a157c28e400"
      },
      "source": [
        "import cv2\n",
        "import matplotlib.pyplot as plt\n",
        "import sys\n",
        "from keras.preprocessing.image import array_to_img,img_to_array,load_img\n",
        "import numpy as np\n",
        "import os\n",
        "\n",
        "!pwd\n",
        "cascade_path=\"../haarcascade_frontalface_alt.xml\""
      ],
      "execution_count": 6,
      "outputs": [
        {
          "output_type": "stream",
          "text": [
            "/content/drive/My Drive/gazo2020/original_data\n"
          ],
          "name": "stdout"
        }
      ]
    },
    {
      "cell_type": "code",
      "metadata": {
        "id": "3NKAcwXLdNoh",
        "colab_type": "code",
        "colab": {
          "base_uri": "https://localhost:8080/",
          "height": 1000
        },
        "outputId": "39a03017-3716-4585-9391-da4ce9b98d4d"
      },
      "source": [
        "\n",
        "X_train=[]\n",
        "Y_train=[]\n",
        "\n",
        "X_test=[]\n",
        "Y_test=[]\n",
        "\n",
        "l=os.listdir(\"./\")\n",
        "for i in l:\n",
        "    result_dir=i.split(\".\")[0]\n",
        "    os.mkdir(\"./face/\"+result_dir)\n",
        "\n",
        "    m=os.listdir(\"./\"+i)\n",
        "    n=0\n",
        "    for target_file in m:\n",
        "        origin_image=(\"./\"+i+\"/\"+target_file)\n",
        "        print(origin_image)\n",
        "        cascade=cv2.CascadeClassifier(cascade_path)\n",
        "        image=cv2.imread(origin_image)\n",
        "\n",
        "        image=cv2.cvtColor(image,cv2.COLOR_BGR2RGB)\n",
        "        gray=cv2.cvtColor(image,cv2.COLOR_RGB2GRAY)\n",
        "\n",
        "        facerect=cascade.detectMultiScale(gray,scaleFactor=1.1,minNeighbors=1,minSize=(10,10))\n",
        "\n",
        "        for x,y,w,h in facerect:\n",
        "            face=gray[y:y+h,x:x+w]\n",
        "            face=cv2.resize(face,(128,128))\n",
        "            save_path=\"./face/\"+result_dir+\"/image_\"+str(n)+\".jpg\"\n",
        "            cv2.imwrite(save_path,face)\n",
        "            n=n+1\n",
        "            face=cv2.flip(face,1)\n",
        "            save_path=\"./face/\"+result_dir+\"/image_\"+str(n)+\".jpg\"\n",
        "            cv2.imwrite(save_path,face)\n",
        "            n=n+1\n",
        "            face=cv2.blur(face,(10,10))\n",
        "            save_path=\"./face/\"+result_dir+\"/image_\"+str(n)+\".jpg\"\n",
        "            cv2.imwrite(save_path,face)\n",
        "            n=n+1\n",
        "            face=cv2.blur(cv2.flip(face,1),(10,10))\n",
        "            save_path=\"./face/\"+result_dir+\"/image_\"+str(n)+\".jpg\"\n",
        "            cv2.imwrite(save_path,face)\n",
        "            n=n+1"
      ],
      "execution_count": 8,
      "outputs": [
        {
          "output_type": "stream",
          "text": [
            "./test/000002 (1).jpg\n"
          ],
          "name": "stdout"
        },
        {
          "output_type": "stream",
          "text": [
            "2020-08-26 07:02:50,102 - INFO - downloader - downloader-001 is waiting for new download tasks\n"
          ],
          "name": "stderr"
        },
        {
          "output_type": "stream",
          "text": [
            "./test/000006 (1).jpg\n",
            "./test/000002.jpg\n"
          ],
          "name": "stdout"
        },
        {
          "output_type": "stream",
          "text": [
            "2020-08-26 07:02:55,104 - INFO - downloader - downloader-001 is waiting for new download tasks\n"
          ],
          "name": "stderr"
        },
        {
          "output_type": "stream",
          "text": [
            "./test/000006.jpg\n"
          ],
          "name": "stdout"
        },
        {
          "output_type": "stream",
          "text": [
            "2020-08-26 07:03:00,107 - INFO - downloader - downloader-001 is waiting for new download tasks\n"
          ],
          "name": "stderr"
        },
        {
          "output_type": "stream",
          "text": [
            "./test/000002 (2).jpg\n",
            "./test/000003.jpg\n",
            "./kobe_bryant/000001.jpg\n",
            "./kobe_bryant/000003.jpg\n",
            "./kobe_bryant/000004.jpg\n"
          ],
          "name": "stdout"
        },
        {
          "output_type": "stream",
          "text": [
            "2020-08-26 07:03:05,115 - INFO - downloader - downloader-001 is waiting for new download tasks\n",
            "2020-08-26 07:03:10,119 - INFO - downloader - downloader-001 is waiting for new download tasks\n",
            "2020-08-26 07:03:15,126 - INFO - downloader - downloader-001 is waiting for new download tasks\n"
          ],
          "name": "stderr"
        },
        {
          "output_type": "stream",
          "text": [
            "./kobe_bryant/000005.jpg\n",
            "./kobe_bryant/000007.jpg\n",
            "./kobe_bryant/000008.jpg\n",
            "./kobe_bryant/000009.jpg\n"
          ],
          "name": "stdout"
        },
        {
          "output_type": "stream",
          "text": [
            "2020-08-26 07:03:20,132 - INFO - downloader - downloader-001 is waiting for new download tasks\n"
          ],
          "name": "stderr"
        },
        {
          "output_type": "stream",
          "text": [
            "./kobe_bryant/000010.jpg\n",
            "./kobe_bryant/000011.jpg\n",
            "./kobe_bryant/000012.jpg\n",
            "./kobe_bryant/000013.jpg\n",
            "./kobe_bryant/000014.jpg\n"
          ],
          "name": "stdout"
        },
        {
          "output_type": "stream",
          "text": [
            "2020-08-26 07:03:25,137 - INFO - downloader - downloader-001 is waiting for new download tasks\n"
          ],
          "name": "stderr"
        },
        {
          "output_type": "stream",
          "text": [
            "./kobe_bryant/000015.jpg\n",
            "./kobe_bryant/000016.jpg\n",
            "./kobe_bryant/000017.jpg\n",
            "./kobe_bryant/000018.jpg\n",
            "./kobe_bryant/000019.jpg\n",
            "./kobe_bryant/000020.jpg\n",
            "./stephen_curry/000001.jpg\n"
          ],
          "name": "stdout"
        },
        {
          "output_type": "stream",
          "text": [
            "2020-08-26 07:03:30,139 - INFO - downloader - downloader-001 is waiting for new download tasks\n"
          ],
          "name": "stderr"
        },
        {
          "output_type": "stream",
          "text": [
            "./stephen_curry/000003.jpg\n"
          ],
          "name": "stdout"
        },
        {
          "output_type": "stream",
          "text": [
            "2020-08-26 07:03:35,143 - INFO - downloader - downloader-001 is waiting for new download tasks\n"
          ],
          "name": "stderr"
        },
        {
          "output_type": "stream",
          "text": [
            "./stephen_curry/000004.jpg\n",
            "./stephen_curry/000005.jpg\n",
            "./stephen_curry/000007.jpg\n",
            "./stephen_curry/000008.jpg\n"
          ],
          "name": "stdout"
        },
        {
          "output_type": "stream",
          "text": [
            "2020-08-26 07:03:40,144 - INFO - downloader - downloader-001 is waiting for new download tasks\n"
          ],
          "name": "stderr"
        },
        {
          "output_type": "stream",
          "text": [
            "./stephen_curry/000009.jpg\n"
          ],
          "name": "stdout"
        },
        {
          "output_type": "stream",
          "text": [
            "2020-08-26 07:03:45,150 - INFO - downloader - downloader-001 is waiting for new download tasks\n"
          ],
          "name": "stderr"
        },
        {
          "output_type": "stream",
          "text": [
            "./stephen_curry/000010.jpg\n"
          ],
          "name": "stdout"
        },
        {
          "output_type": "stream",
          "text": [
            "2020-08-26 07:03:50,152 - INFO - downloader - downloader-001 is waiting for new download tasks\n",
            "2020-08-26 07:03:55,156 - INFO - downloader - downloader-001 is waiting for new download tasks\n"
          ],
          "name": "stderr"
        },
        {
          "output_type": "stream",
          "text": [
            "./stephen_curry/000011.jpg\n",
            "./stephen_curry/000012.jpg\n",
            "./stephen_curry/000013.jpg\n",
            "./stephen_curry/000014.jpg\n"
          ],
          "name": "stdout"
        },
        {
          "output_type": "stream",
          "text": [
            "2020-08-26 07:04:00,158 - INFO - downloader - downloader-001 is waiting for new download tasks\n"
          ],
          "name": "stderr"
        },
        {
          "output_type": "stream",
          "text": [
            "./stephen_curry/000015.jpg\n"
          ],
          "name": "stdout"
        },
        {
          "output_type": "stream",
          "text": [
            "2020-08-26 07:04:05,164 - INFO - downloader - downloader-001 is waiting for new download tasks\n"
          ],
          "name": "stderr"
        },
        {
          "output_type": "stream",
          "text": [
            "./stephen_curry/000016.jpg\n",
            "./stephen_curry/000017.jpg\n",
            "./stephen_curry/000018.jpg\n",
            "./stephen_curry/000019.jpg\n"
          ],
          "name": "stdout"
        },
        {
          "output_type": "stream",
          "text": [
            "2020-08-26 07:04:10,170 - INFO - downloader - downloader-001 is waiting for new download tasks\n"
          ],
          "name": "stderr"
        },
        {
          "output_type": "stream",
          "text": [
            "./stephen_curry/000020.jpg\n",
            "./russell_westbrook/000001.jpg\n",
            "./russell_westbrook/000004.jpg\n"
          ],
          "name": "stdout"
        },
        {
          "output_type": "stream",
          "text": [
            "2020-08-26 07:04:15,171 - INFO - downloader - downloader-001 is waiting for new download tasks\n"
          ],
          "name": "stderr"
        },
        {
          "output_type": "stream",
          "text": [
            "./russell_westbrook/000005.jpg\n",
            "./russell_westbrook/000006.jpg\n",
            "./russell_westbrook/000007.jpg\n"
          ],
          "name": "stdout"
        },
        {
          "output_type": "stream",
          "text": [
            "2020-08-26 07:04:20,173 - INFO - downloader - downloader-001 is waiting for new download tasks\n"
          ],
          "name": "stderr"
        },
        {
          "output_type": "stream",
          "text": [
            "./russell_westbrook/000008.jpg\n",
            "./russell_westbrook/000009.jpg\n",
            "./russell_westbrook/000010.jpg\n",
            "./russell_westbrook/000011.jpg\n"
          ],
          "name": "stdout"
        },
        {
          "output_type": "stream",
          "text": [
            "2020-08-26 07:04:25,180 - INFO - downloader - downloader-001 is waiting for new download tasks\n"
          ],
          "name": "stderr"
        },
        {
          "output_type": "stream",
          "text": [
            "./russell_westbrook/000012.jpg\n",
            "./russell_westbrook/000013.jpg\n"
          ],
          "name": "stdout"
        },
        {
          "output_type": "stream",
          "text": [
            "2020-08-26 07:04:30,181 - INFO - downloader - downloader-001 is waiting for new download tasks\n"
          ],
          "name": "stderr"
        },
        {
          "output_type": "stream",
          "text": [
            "./russell_westbrook/000014.jpg\n"
          ],
          "name": "stdout"
        },
        {
          "output_type": "stream",
          "text": [
            "2020-08-26 07:04:35,187 - INFO - downloader - downloader-001 is waiting for new download tasks\n",
            "2020-08-26 07:04:40,192 - INFO - downloader - downloader-001 is waiting for new download tasks\n"
          ],
          "name": "stderr"
        },
        {
          "output_type": "stream",
          "text": [
            "./russell_westbrook/000015.jpg\n",
            "./russell_westbrook/000016.jpg\n"
          ],
          "name": "stdout"
        },
        {
          "output_type": "stream",
          "text": [
            "2020-08-26 07:04:45,195 - INFO - downloader - downloader-001 is waiting for new download tasks\n"
          ],
          "name": "stderr"
        },
        {
          "output_type": "stream",
          "text": [
            "./russell_westbrook/000017.jpg\n",
            "./russell_westbrook/000018.jpg\n"
          ],
          "name": "stdout"
        },
        {
          "output_type": "stream",
          "text": [
            "2020-08-26 07:04:50,197 - INFO - downloader - downloader-001 is waiting for new download tasks\n"
          ],
          "name": "stderr"
        },
        {
          "output_type": "stream",
          "text": [
            "./russell_westbrook/000019.jpg\n"
          ],
          "name": "stdout"
        },
        {
          "output_type": "stream",
          "text": [
            "2020-08-26 07:04:55,200 - INFO - downloader - downloader-001 is waiting for new download tasks\n",
            "2020-08-26 07:05:00,204 - INFO - downloader - downloader-001 is waiting for new download tasks\n"
          ],
          "name": "stderr"
        },
        {
          "output_type": "stream",
          "text": [
            "./russell_westbrook/000020.jpg\n"
          ],
          "name": "stdout"
        }
      ]
    },
    {
      "cell_type": "code",
      "metadata": {
        "id": "uMhs6nSgfGXL",
        "colab_type": "code",
        "colab": {
          "base_uri": "https://localhost:8080/",
          "height": 33
        },
        "outputId": "85569c7c-c57d-47cb-cadc-9a1b4b029663"
      },
      "source": [
        "import matplotlib.pyplot as plt\n",
        "import sys\n",
        "from keras.preprocessing.image import array_to_img,img_to_array,load_img\n",
        "import numpy as np\n",
        "import os\n",
        "\n",
        "X_train=[]\n",
        "Y_train=[]\n",
        "\n",
        "X_test=[]\n",
        "Y_test=[]\n",
        "\n",
        "data=os.listdir(\"./face\")\n",
        "for row in data:\n",
        "    i=os.listdir(\"./face/\"+row)\n",
        "    n=0\n",
        "    for target_file in i:\n",
        "        image=(\"./face/\"+row+\"/\"+target_file)\n",
        "        if n>5:\n",
        "            temp_img=load_img(image)\n",
        "            temp_img_array=img_to_array(temp_img)\n",
        "            X_train.append(temp_img_array)\n",
        "            Y_train.append(row.split(\".\")[0])\n",
        "            n=n+1\n",
        "        else:\n",
        "            temp_img=load_img(image)\n",
        "            temp_img_array=img_to_array(temp_img)\n",
        "            X_test.append(temp_img_array)\n",
        "            Y_test.append(row.split(\".\")[0])\n",
        "            n=n+1\n",
        "\n",
        "np.savez(\"./mydatasets.npz\",x_train=X_train,y_train=Y_train,x_test=X_test,y_test=Y_test)"
      ],
      "execution_count": 9,
      "outputs": [
        {
          "output_type": "stream",
          "text": [
            "2020-08-26 07:05:10,209 - INFO - downloader - downloader-001 is waiting for new download tasks\n"
          ],
          "name": "stderr"
        }
      ]
    },
    {
      "cell_type": "code",
      "metadata": {
        "id": "lAgjbJPQfjBb",
        "colab_type": "code",
        "colab": {}
      },
      "source": [
        ""
      ],
      "execution_count": 9,
      "outputs": []
    }
  ]
}