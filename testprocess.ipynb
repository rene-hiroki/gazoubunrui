{
  "nbformat": 4,
  "nbformat_minor": 0,
  "metadata": {
    "colab": {
      "name": "testprocess.ipynb",
      "provenance": [],
      "toc_visible": true,
      "mount_file_id": "1i_ztlQ1w0gPQ1PlKk6IYoX0EkWtua5Ci",
      "authorship_tag": "ABX9TyONuESio5ys0Le9QNhjeqU4",
      "include_colab_link": true
    },
    "kernelspec": {
      "name": "python3",
      "display_name": "Python 3"
    }
  },
  "cells": [
    {
      "cell_type": "markdown",
      "metadata": {
        "id": "view-in-github",
        "colab_type": "text"
      },
      "source": [
        "<a href=\"https://colab.research.google.com/github/rene-hiroki/gazoubunrui/blob/master/testprocess.ipynb\" target=\"_parent\"><img src=\"https://colab.research.google.com/assets/colab-badge.svg\" alt=\"Open In Colab\"/></a>"
      ]
    },
    {
      "cell_type": "markdown",
      "metadata": {
        "id": "ClqOFoLhnDCU",
        "colab_type": "text"
      },
      "source": [
        "# 試行・実験"
      ]
    },
    {
      "cell_type": "code",
      "metadata": {
        "id": "EBRhzUX8nL5h",
        "colab_type": "code",
        "colab": {
          "base_uri": "https://localhost:8080/",
          "height": 66
        },
        "outputId": "dc70dfe0-cff5-479a-f712-0789a41c3567"
      },
      "source": [
        "!pwd\n",
        "%cd drive/My Drive/gazo2020/original_data"
      ],
      "execution_count": 4,
      "outputs": [
        {
          "output_type": "stream",
          "text": [
            "/content/drive/My Drive/gazo2020/original_data\n",
            "[Errno 2] No such file or directory: 'drive/My Drive/gazo2020/original_data'\n",
            "/content/drive/My Drive/gazo2020/original_data\n"
          ],
          "name": "stdout"
        }
      ]
    },
    {
      "cell_type": "code",
      "metadata": {
        "id": "biRSI-G6nbDc",
        "colab_type": "code",
        "colab": {}
      },
      "source": [
        "import sys\n",
        "# sys.path.append('/content/drive/My Drive/Colab/my_project/my_modules')\n",
        "sys.path.append('/content/drive/My Drive/gazo2020/module')"
      ],
      "execution_count": 5,
      "outputs": []
    },
    {
      "cell_type": "code",
      "metadata": {
        "id": "5f9aCD3Dms3B",
        "colab_type": "code",
        "colab": {
          "base_uri": "https://localhost:8080/",
          "height": 1000
        },
        "outputId": "4f37fd4d-b3b3-4b9a-a7d2-e06c71ae6fce"
      },
      "source": [
        "\n",
        "import ic_module as ic\n",
        "import os.path as op\n",
        "\n",
        "while True:\n",
        "    while True:\n",
        "        imgname = input(\"\\n>> 入力したい画像ファイル(「END」で終了) ： \")\n",
        "        if op.isfile(imgname) or imgname == \"END\":\n",
        "            break\n",
        "        print(\">> そのファイルは存在しません！\")\n",
        "    if imgname == \"END\":\n",
        "        break\n",
        "\n",
        "    # 関数実行\n",
        "    ic.TestProcess(imgname)"
      ],
      "execution_count": 7,
      "outputs": [
        {
          "output_type": "stream",
          "text": [
            "\n",
            ">> 入力したい画像ファイル(「END」で終了) ： /content/drive/My Drive/gazo2020/original_data/test/000001.jpg\n",
            "WARNING:tensorflow:7 out of the last 7 calls to <function Model.make_predict_function.<locals>.predict_function at 0x7fd30b611378> triggered tf.function retracing. Tracing is expensive and the excessive number of tracings could be due to (1) creating @tf.function repeatedly in a loop, (2) passing tensors with different shapes, (3) passing Python objects instead of tensors. For (1), please define your @tf.function outside of the loop. For (2), @tf.function has experimental_relax_shapes=True option that relaxes argument shapes that can avoid unnecessary retracing. For (3), please refer to https://www.tensorflow.org/tutorials/customization/performance#python_or_tensor_args and https://www.tensorflow.org/api_docs/python/tf/function for  more details.\n",
            ">> 計算結果↓\n",
            "[[9.8598135e-01 1.3928427e-02 9.0238478e-05]]\n",
            ">> この画像は「kobe」です。\n",
            "\n",
            ">> 入力したい画像ファイル(「END」で終了) ： /content/drive/My Drive/gazo2020/original_data/test/000002.jpg\n",
            "WARNING:tensorflow:8 out of the last 8 calls to <function Model.make_predict_function.<locals>.predict_function at 0x7fd30be18620> triggered tf.function retracing. Tracing is expensive and the excessive number of tracings could be due to (1) creating @tf.function repeatedly in a loop, (2) passing tensors with different shapes, (3) passing Python objects instead of tensors. For (1), please define your @tf.function outside of the loop. For (2), @tf.function has experimental_relax_shapes=True option that relaxes argument shapes that can avoid unnecessary retracing. For (3), please refer to https://www.tensorflow.org/tutorials/customization/performance#python_or_tensor_args and https://www.tensorflow.org/api_docs/python/tf/function for  more details.\n",
            ">> 計算結果↓\n",
            "[[9.9928015e-01 5.1677448e-04 2.0315521e-04]]\n",
            ">> この画像は「kobe」です。\n",
            "\n",
            ">> 入力したい画像ファイル(「END」で終了) ： /content/drive/My Drive/gazo2020/original_data/test/000003.jpg\n",
            "WARNING:tensorflow:9 out of the last 9 calls to <function Model.make_predict_function.<locals>.predict_function at 0x7fd30acedf28> triggered tf.function retracing. Tracing is expensive and the excessive number of tracings could be due to (1) creating @tf.function repeatedly in a loop, (2) passing tensors with different shapes, (3) passing Python objects instead of tensors. For (1), please define your @tf.function outside of the loop. For (2), @tf.function has experimental_relax_shapes=True option that relaxes argument shapes that can avoid unnecessary retracing. For (3), please refer to https://www.tensorflow.org/tutorials/customization/performance#python_or_tensor_args and https://www.tensorflow.org/api_docs/python/tf/function for  more details.\n",
            ">> 計算結果↓\n",
            "[[9.9937314e-01 6.2673591e-04 7.7371404e-08]]\n",
            ">> この画像は「kobe」です。\n",
            "\n",
            ">> 入力したい画像ファイル(「END」で終了) ： /content/drive/My Drive/gazo2020/original_data/test/000004.jpg\n",
            "WARNING:tensorflow:10 out of the last 10 calls to <function Model.make_predict_function.<locals>.predict_function at 0x7fd30aca0840> triggered tf.function retracing. Tracing is expensive and the excessive number of tracings could be due to (1) creating @tf.function repeatedly in a loop, (2) passing tensors with different shapes, (3) passing Python objects instead of tensors. For (1), please define your @tf.function outside of the loop. For (2), @tf.function has experimental_relax_shapes=True option that relaxes argument shapes that can avoid unnecessary retracing. For (3), please refer to https://www.tensorflow.org/tutorials/customization/performance#python_or_tensor_args and https://www.tensorflow.org/api_docs/python/tf/function for  more details.\n",
            ">> 計算結果↓\n",
            "[[9.9903905e-01 9.6081081e-04 7.4474748e-08]]\n",
            ">> この画像は「kobe」です。\n",
            "\n",
            ">> 入力したい画像ファイル(「END」で終了) ： /content/drive/My Drive/gazo2020/original_data/test/000008.jpg\n",
            "WARNING:tensorflow:11 out of the last 11 calls to <function Model.make_predict_function.<locals>.predict_function at 0x7fd30a40bae8> triggered tf.function retracing. Tracing is expensive and the excessive number of tracings could be due to (1) creating @tf.function repeatedly in a loop, (2) passing tensors with different shapes, (3) passing Python objects instead of tensors. For (1), please define your @tf.function outside of the loop. For (2), @tf.function has experimental_relax_shapes=True option that relaxes argument shapes that can avoid unnecessary retracing. For (3), please refer to https://www.tensorflow.org/tutorials/customization/performance#python_or_tensor_args and https://www.tensorflow.org/api_docs/python/tf/function for  more details.\n",
            ">> 計算結果↓\n",
            "[[9.9772733e-01 2.2725323e-03 1.4338902e-07]]\n",
            ">> この画像は「kobe」です。\n",
            "\n",
            ">> 入力したい画像ファイル(「END」で終了) ： /content/drive/My Drive/gazo2020/original_data/test/000009.jpg\n",
            "WARNING:tensorflow:11 out of the last 11 calls to <function Model.make_predict_function.<locals>.predict_function at 0x7fd30a40b488> triggered tf.function retracing. Tracing is expensive and the excessive number of tracings could be due to (1) creating @tf.function repeatedly in a loop, (2) passing tensors with different shapes, (3) passing Python objects instead of tensors. For (1), please define your @tf.function outside of the loop. For (2), @tf.function has experimental_relax_shapes=True option that relaxes argument shapes that can avoid unnecessary retracing. For (3), please refer to https://www.tensorflow.org/tutorials/customization/performance#python_or_tensor_args and https://www.tensorflow.org/api_docs/python/tf/function for  more details.\n",
            ">> 計算結果↓\n",
            "[[9.9504179e-01 4.9570198e-03 1.2006786e-06]]\n",
            ">> この画像は「kobe」です。\n",
            "\n",
            ">> 入力したい画像ファイル(「END」で終了) ： /content/drive/My Drive/gazo2020/original_data/kobe bryant/000002.jpg\n",
            "WARNING:tensorflow:11 out of the last 11 calls to <function Model.make_predict_function.<locals>.predict_function at 0x7fd309aecb70> triggered tf.function retracing. Tracing is expensive and the excessive number of tracings could be due to (1) creating @tf.function repeatedly in a loop, (2) passing tensors with different shapes, (3) passing Python objects instead of tensors. For (1), please define your @tf.function outside of the loop. For (2), @tf.function has experimental_relax_shapes=True option that relaxes argument shapes that can avoid unnecessary retracing. For (3), please refer to https://www.tensorflow.org/tutorials/customization/performance#python_or_tensor_args and https://www.tensorflow.org/api_docs/python/tf/function for  more details.\n",
            ">> 計算結果↓\n",
            "[[9.969613e-01 3.037679e-03 9.999711e-07]]\n",
            ">> この画像は「kobe」です。\n",
            "\n",
            ">> 入力したい画像ファイル(「END」で終了) ： /content/drive/My Drive/gazo2020/original_data/stephen curry/000005.jpg\n",
            "WARNING:tensorflow:11 out of the last 11 calls to <function Model.make_predict_function.<locals>.predict_function at 0x7fd30928c400> triggered tf.function retracing. Tracing is expensive and the excessive number of tracings could be due to (1) creating @tf.function repeatedly in a loop, (2) passing tensors with different shapes, (3) passing Python objects instead of tensors. For (1), please define your @tf.function outside of the loop. For (2), @tf.function has experimental_relax_shapes=True option that relaxes argument shapes that can avoid unnecessary retracing. For (3), please refer to https://www.tensorflow.org/tutorials/customization/performance#python_or_tensor_args and https://www.tensorflow.org/api_docs/python/tf/function for  more details.\n",
            ">> 計算結果↓\n",
            "[[9.9903071e-01 9.6926145e-04 4.4990877e-08]]\n",
            ">> この画像は「kobe」です。\n",
            "\n",
            ">> 入力したい画像ファイル(「END」で終了) ： /content/drive/My Drive/gazo2020/original_data/russell westbrook/000013.jpg\n",
            "WARNING:tensorflow:11 out of the last 11 calls to <function Model.make_predict_function.<locals>.predict_function at 0x7fd309a9ebf8> triggered tf.function retracing. Tracing is expensive and the excessive number of tracings could be due to (1) creating @tf.function repeatedly in a loop, (2) passing tensors with different shapes, (3) passing Python objects instead of tensors. For (1), please define your @tf.function outside of the loop. For (2), @tf.function has experimental_relax_shapes=True option that relaxes argument shapes that can avoid unnecessary retracing. For (3), please refer to https://www.tensorflow.org/tutorials/customization/performance#python_or_tensor_args and https://www.tensorflow.org/api_docs/python/tf/function for  more details.\n",
            ">> 計算結果↓\n",
            "[[9.9937481e-01 6.2506384e-04 9.5505563e-08]]\n",
            ">> この画像は「kobe」です。\n",
            "\n",
            ">> 入力したい画像ファイル(「END」で終了) ： /content/drive/My Drive/gazo2020/original_data/face/stephen curry/image_127.jpg\n",
            "WARNING:tensorflow:11 out of the last 11 calls to <function Model.make_predict_function.<locals>.predict_function at 0x7fd3089acf28> triggered tf.function retracing. Tracing is expensive and the excessive number of tracings could be due to (1) creating @tf.function repeatedly in a loop, (2) passing tensors with different shapes, (3) passing Python objects instead of tensors. For (1), please define your @tf.function outside of the loop. For (2), @tf.function has experimental_relax_shapes=True option that relaxes argument shapes that can avoid unnecessary retracing. For (3), please refer to https://www.tensorflow.org/tutorials/customization/performance#python_or_tensor_args and https://www.tensorflow.org/api_docs/python/tf/function for  more details.\n",
            ">> 計算結果↓\n",
            "[[0.00200218 0.03094957 0.9670483 ]]\n",
            ">> この画像は「curry」です。\n",
            "\n",
            ">> 入力したい画像ファイル(「END」で終了) ： /content/drive/My Drive/gazo2020/original_data/face/russell westbrook/image_10.jpg\n",
            "WARNING:tensorflow:11 out of the last 11 calls to <function Model.make_predict_function.<locals>.predict_function at 0x7fd30891d8c8> triggered tf.function retracing. Tracing is expensive and the excessive number of tracings could be due to (1) creating @tf.function repeatedly in a loop, (2) passing tensors with different shapes, (3) passing Python objects instead of tensors. For (1), please define your @tf.function outside of the loop. For (2), @tf.function has experimental_relax_shapes=True option that relaxes argument shapes that can avoid unnecessary retracing. For (3), please refer to https://www.tensorflow.org/tutorials/customization/performance#python_or_tensor_args and https://www.tensorflow.org/api_docs/python/tf/function for  more details.\n",
            ">> 計算結果↓\n",
            "[[0.10652358 0.8676993  0.02577711]]\n",
            ">> この画像は「westbrook」です。\n",
            "\n",
            ">> 入力したい画像ファイル(「END」で終了) ： /content/drive/My Drive/gazo2020/original_data/russell westbrook/000020.jpg\n",
            "WARNING:tensorflow:11 out of the last 11 calls to <function Model.make_predict_function.<locals>.predict_function at 0x7fd308080b70> triggered tf.function retracing. Tracing is expensive and the excessive number of tracings could be due to (1) creating @tf.function repeatedly in a loop, (2) passing tensors with different shapes, (3) passing Python objects instead of tensors. For (1), please define your @tf.function outside of the loop. For (2), @tf.function has experimental_relax_shapes=True option that relaxes argument shapes that can avoid unnecessary retracing. For (3), please refer to https://www.tensorflow.org/tutorials/customization/performance#python_or_tensor_args and https://www.tensorflow.org/api_docs/python/tf/function for  more details.\n",
            ">> 計算結果↓\n",
            "[[9.9982446e-01 1.7549188e-04 6.3016792e-08]]\n",
            ">> この画像は「kobe」です。\n",
            "\n",
            ">> 入力したい画像ファイル(「END」で終了) ： END\n"
          ],
          "name": "stdout"
        }
      ]
    },
    {
      "cell_type": "code",
      "metadata": {
        "id": "YQdKC-FQncPO",
        "colab_type": "code",
        "colab": {}
      },
      "source": [
        ""
      ],
      "execution_count": null,
      "outputs": []
    }
  ]
}