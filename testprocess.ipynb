{
  "nbformat": 4,
  "nbformat_minor": 0,
  "metadata": {
    "colab": {
      "name": "testprocess.ipynb",
      "provenance": [],
      "toc_visible": true,
      "mount_file_id": "1i_ztlQ1w0gPQ1PlKk6IYoX0EkWtua5Ci",
      "authorship_tag": "ABX9TyNRUmAo90to5d2mEnbXgvvY",
      "include_colab_link": true
    },
    "kernelspec": {
      "name": "python3",
      "display_name": "Python 3"
    }
  },
  "cells": [
    {
      "cell_type": "markdown",
      "metadata": {
        "id": "view-in-github",
        "colab_type": "text"
      },
      "source": [
        "<a href=\"https://colab.research.google.com/github/rene-hiroki/gazoubunrui/blob/master/testprocess.ipynb\" target=\"_parent\"><img src=\"https://colab.research.google.com/assets/colab-badge.svg\" alt=\"Open In Colab\"/></a>"
      ]
    },
    {
      "cell_type": "markdown",
      "metadata": {
        "id": "ClqOFoLhnDCU",
        "colab_type": "text"
      },
      "source": [
        "# 試行・実験"
      ]
    },
    {
      "cell_type": "code",
      "metadata": {
        "id": "EBRhzUX8nL5h",
        "colab_type": "code",
        "colab": {
          "base_uri": "https://localhost:8080/",
          "height": 50
        },
        "outputId": "d9989958-e9cb-4aae-e44b-a3d13653fde4"
      },
      "source": [
        "%cd drive/My Drive/gazo2020/original_data\n",
        "!pwd"
      ],
      "execution_count": 1,
      "outputs": [
        {
          "output_type": "stream",
          "text": [
            "/content/drive/My Drive/gazo2020/original_data\n",
            "/content/drive/My Drive/gazo2020/original_data\n"
          ],
          "name": "stdout"
        }
      ]
    },
    {
      "cell_type": "code",
      "metadata": {
        "id": "biRSI-G6nbDc",
        "colab_type": "code",
        "colab": {}
      },
      "source": [
        "import sys\n",
        "# sys.path.append('/content/drive/My Drive/Colab/my_project/my_modules')\n",
        "sys.path.append('/content/drive/My Drive/gazo2020/module')"
      ],
      "execution_count": 2,
      "outputs": []
    },
    {
      "cell_type": "code",
      "metadata": {
        "id": "5f9aCD3Dms3B",
        "colab_type": "code",
        "colab": {
          "base_uri": "https://localhost:8080/",
          "height": 653
        },
        "outputId": "620c7eda-08fd-4d99-df59-1349a77fab9c"
      },
      "source": [
        "\n",
        "import ic_module as ic\n",
        "import os.path as op\n",
        "\n",
        "while True:\n",
        "    while True:\n",
        "        imgname = input(\"\\n>> 入力したい画像ファイル(「END」で終了) ： \")\n",
        "        if op.isfile(imgname) or imgname == \"END\":\n",
        "            break\n",
        "        print(\">> そのファイルは存在しません！\")\n",
        "    if imgname == \"END\":\n",
        "        break\n",
        "\n",
        "    # 関数実行\n",
        "    ic.TestProcess(imgname)"
      ],
      "execution_count": 3,
      "outputs": [
        {
          "output_type": "stream",
          "text": [
            "\n",
            ">> 入力したい画像ファイル(「END」で終了) ： /content/drive/My Drive/gazo2020/original_data/test/000001.jpg\n",
            ">> 計算結果↓\n",
            "[[0.00403762 0.9124872  0.0834752 ]]\n",
            ">> この画像は「westbrook」です。\n",
            "\n",
            ">> 入力したい画像ファイル(「END」で終了) ： /content/drive/My Drive/gazo2020/original_data/test/000002.jpg\n",
            ">> 計算結果↓\n",
            "[[0.00143694 0.8791424  0.11942063]]\n",
            ">> この画像は「westbrook」です。\n",
            "\n",
            ">> 入力したい画像ファイル(「END」で終了) ： /content/drive/My Drive/gazo2020/original_data/test/000003.jpg\n",
            ">> 計算結果↓\n",
            "[[0.00723527 0.9905612  0.00220357]]\n",
            ">> この画像は「westbrook」です。\n",
            "\n",
            ">> 入力したい画像ファイル(「END」で終了) ： /content/drive/My Drive/gazo2020/original_data/test/000004.jpg\n",
            ">> 計算結果↓\n",
            "[[0.00248439 0.9520499  0.04546572]]\n",
            ">> この画像は「westbrook」です。\n",
            "\n",
            ">> 入力したい画像ファイル(「END」で終了) ： /content/drive/My Drive/gazo2020/original_data/test/000005.jpg\n",
            "WARNING:tensorflow:5 out of the last 5 calls to <function Model.make_predict_function.<locals>.predict_function at 0x7fd30c786840> triggered tf.function retracing. Tracing is expensive and the excessive number of tracings could be due to (1) creating @tf.function repeatedly in a loop, (2) passing tensors with different shapes, (3) passing Python objects instead of tensors. For (1), please define your @tf.function outside of the loop. For (2), @tf.function has experimental_relax_shapes=True option that relaxes argument shapes that can avoid unnecessary retracing. For (3), please refer to https://www.tensorflow.org/tutorials/customization/performance#python_or_tensor_args and https://www.tensorflow.org/api_docs/python/tf/function for  more details.\n",
            ">> 計算結果↓\n",
            "[[0.00916179 0.18073805 0.81010014]]\n",
            ">> この画像は「curry」です。\n",
            "\n",
            ">> 入力したい画像ファイル(「END」で終了) ： /content/drive/My Drive/gazo2020/original_data/test/000006.jpg\n",
            "WARNING:tensorflow:6 out of the last 6 calls to <function Model.make_predict_function.<locals>.predict_function at 0x7fd30be66ae8> triggered tf.function retracing. Tracing is expensive and the excessive number of tracings could be due to (1) creating @tf.function repeatedly in a loop, (2) passing tensors with different shapes, (3) passing Python objects instead of tensors. For (1), please define your @tf.function outside of the loop. For (2), @tf.function has experimental_relax_shapes=True option that relaxes argument shapes that can avoid unnecessary retracing. For (3), please refer to https://www.tensorflow.org/tutorials/customization/performance#python_or_tensor_args and https://www.tensorflow.org/api_docs/python/tf/function for  more details.\n",
            ">> 計算結果↓\n",
            "[[0.00487031 0.9362047  0.05892505]]\n",
            ">> この画像は「westbrook」です。\n",
            "\n",
            ">> 入力したい画像ファイル(「END」で終了) ： \n",
            ">> そのファイルは存在しません！\n",
            "\n",
            ">> 入力したい画像ファイル(「END」で終了) ： END\n"
          ],
          "name": "stdout"
        }
      ]
    },
    {
      "cell_type": "code",
      "metadata": {
        "id": "YQdKC-FQncPO",
        "colab_type": "code",
        "colab": {}
      },
      "source": [
        ""
      ],
      "execution_count": null,
      "outputs": []
    }
  ]
}