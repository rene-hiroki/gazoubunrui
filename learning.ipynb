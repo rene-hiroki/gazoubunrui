{
  "nbformat": 4,
  "nbformat_minor": 0,
  "metadata": {
    "colab": {
      "name": "learning.ipynb",
      "provenance": [],
      "mount_file_id": "1Y7ElAHQUYWP8h-wvH3cYv3dJ-HPOdMrk",
      "authorship_tag": "ABX9TyNvR0Od5ykwqI+FjwwyCeSV",
      "include_colab_link": true
    },
    "kernelspec": {
      "name": "python3",
      "display_name": "Python 3"
    }
  },
  "cells": [
    {
      "cell_type": "markdown",
      "metadata": {
        "id": "view-in-github",
        "colab_type": "text"
      },
      "source": [
        "<a href=\"https://colab.research.google.com/github/rene-hiroki/gazoubunrui/blob/master/learning.ipynb\" target=\"_parent\"><img src=\"https://colab.research.google.com/assets/colab-badge.svg\" alt=\"Open In Colab\"/></a>"
      ]
    },
    {
      "cell_type": "markdown",
      "metadata": {
        "id": "M96oHuO8oF5F",
        "colab_type": "text"
      },
      "source": [
        "# 学習"
      ]
    },
    {
      "cell_type": "code",
      "metadata": {
        "id": "Y8bltRk2oEzy",
        "colab_type": "code",
        "colab": {
          "base_uri": "https://localhost:8080/",
          "height": 66
        },
        "outputId": "fd841eed-c18a-4647-93ba-2d951208b70e"
      },
      "source": [
        "!pwd\n",
        "%cd drive/My Drive/gazo2020/original_data"
      ],
      "execution_count": 7,
      "outputs": [
        {
          "output_type": "stream",
          "text": [
            "[Errno 2] No such file or directory: 'drive/My Drive/gazo2020/original_data'\n",
            "/content/drive/My Drive/gazo2020/original_data\n",
            "/content/drive/My Drive/gazo2020/original_data\n"
          ],
          "name": "stdout"
        }
      ]
    },
    {
      "cell_type": "code",
      "metadata": {
        "id": "7m4yds9Rnx2l",
        "colab_type": "code",
        "colab": {}
      },
      "source": [
        "import sys\n",
        "sys.path.append('/content/drive/My Drive/gazo2020/module')\n",
        "\n",
        "import importlib\n",
        "import ic_module as ic\n",
        "importlib.reload(ic)\n",
        "\n",
        "# 関数実行\n",
        "ic.Learning(tsnum=30, nb_epoch=50, batch_size=8, learn_schedule=0.9)"
      ],
      "execution_count": null,
      "outputs": []
    },
    {
      "cell_type": "code",
      "metadata": {
        "id": "QsXpOyfh1NRe",
        "colab_type": "code",
        "colab": {}
      },
      "source": [
        ""
      ],
      "execution_count": null,
      "outputs": []
    }
  ]
}