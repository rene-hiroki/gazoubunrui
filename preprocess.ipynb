{
  "nbformat": 4,
  "nbformat_minor": 0,
  "metadata": {
    "colab": {
      "name": "preprocess.ipynb",
      "provenance": [],
      "collapsed_sections": [],
      "toc_visible": true,
      "mount_file_id": "1uPq7NzL-eYM0WY9DYTz_9Lia9yoj5k3y",
      "authorship_tag": "ABX9TyPAMn56jxmNBG/z88elgKpH",
      "include_colab_link": true
    },
    "kernelspec": {
      "name": "python3",
      "display_name": "Python 3"
    }
  },
  "cells": [
    {
      "cell_type": "markdown",
      "metadata": {
        "id": "view-in-github",
        "colab_type": "text"
      },
      "source": [
        "<a href=\"https://colab.research.google.com/github/rene-hiroki/gazoubunrui/blob/master/preprocess.ipynb\" target=\"_parent\"><img src=\"https://colab.research.google.com/assets/colab-badge.svg\" alt=\"Open In Colab\"/></a>"
      ]
    },
    {
      "cell_type": "markdown",
      "metadata": {
        "id": "SaHHN3RrTGf9",
        "colab_type": "text"
      },
      "source": [
        "# 前処理"
      ]
    },
    {
      "cell_type": "code",
      "metadata": {
        "id": "OTqKXM3cRLK4",
        "colab_type": "code",
        "colab": {
          "base_uri": "https://localhost:8080/",
          "height": 83
        },
        "outputId": "eeac25db-18fe-4b63-ae2b-8befd5515343"
      },
      "source": [
        "import sys\n",
        "# sys.path.append('/content/drive/My Drive/Colab/my_project/my_modules')\n",
        "sys.path.append('/content/drive/My Drive/gazo2020/module')\n",
        "!pwd\n",
        "%cd drive/My Drive/gazo2020/original_data\n",
        "!pwd"
      ],
      "execution_count": 7,
      "outputs": [
        {
          "output_type": "stream",
          "text": [
            "/content/drive/My Drive/gazo2020/original_data\n",
            "[Errno 2] No such file or directory: 'drive/My Drive/gazo2020/original_data'\n",
            "/content/drive/My Drive/gazo2020/original_data\n",
            "/content/drive/My Drive/gazo2020/original_data\n"
          ],
          "name": "stdout"
        }
      ]
    },
    {
      "cell_type": "code",
      "metadata": {
        "id": "Jtc4-o45i5fp",
        "colab_type": "code",
        "colab": {
          "base_uri": "https://localhost:8080/",
          "height": 33
        },
        "outputId": "0f5099fa-22d0-4cce-ca1f-3528e385ace5"
      },
      "source": [
        "# import os\n",
        "\n",
        "# dirs = []\n",
        "# for char in os.listdir(\"./face\"):\n",
        "#     dirs.append(\"./face/\" + char)\n",
        "# dirs[:-1]"
      ],
      "execution_count": 18,
      "outputs": [
        {
          "output_type": "execute_result",
          "data": {
            "text/plain": [
              "['./face/kobe_bryant', './face/stephen_curry', './face/russell_westbrook']"
            ]
          },
          "metadata": {
            "tags": []
          },
          "execution_count": 18
        }
      ]
    },
    {
      "cell_type": "code",
      "metadata": {
        "id": "6HZQkhuYTJxW",
        "colab_type": "code",
        "colab": {
          "base_uri": "https://localhost:8080/",
          "height": 116
        },
        "outputId": "407b1a5e-a8c6-4072-82d4-4c47b05d5548"
      },
      "source": [
        "import ic_module as ic\n",
        "import os.path as op\n",
        "\n",
        "i = 0\n",
        "for filename in ic.FileNames :\n",
        "    # # ディレクトリ名入力\n",
        "    while True :\n",
        "        dirname = input(\">>「\" + ic.ClassNames[i] + \"」の画像のあるディレクトリ ： \")\n",
        "        if op.isdir(dirname) :\n",
        "            break\n",
        "        print(\">> そのディレクトリは存在しません！\")\n",
        "\n",
        "    # 関数実行\n",
        "    ic.PreProcess(dirname, filename, var_amount=3)\n",
        "    i += 1\n",
        "\n",
        "# i = 0\n",
        "# for dir in dirs:\n",
        "#     dirname = dir\n",
        "#     print(\">>「\" + ic.ClassNames[i] + \"」の画像のあるディレクトリ ： \", dir)\n",
        "#     # 関数実行\n",
        "#     ic.PreProcess(dirname, filename, var_amount=3)\n",
        "#     i += 1"
      ],
      "execution_count": 26,
      "outputs": [
        {
          "output_type": "stream",
          "text": [
            ">>「kobe」の画像のあるディレクトリ ： /content/drive/My Drive/gazo2020/original_data/face/kobe_bryant\n",
            ">> /content/drive/My Drive/gazo2020/original_data/face/kobe_bryantから116個のファイル読み込み成功\n",
            ">>「westbrook」の画像のあるディレクトリ ： /content/drive/My Drive/gazo2020/original_data/face/russell_westbrook\n",
            ">> /content/drive/My Drive/gazo2020/original_data/face/russell_westbrookから228個のファイル読み込み成功\n",
            ">>「curry」の画像のあるディレクトリ ： /content/drive/My Drive/gazo2020/original_data/face/stephen_curry\n",
            ">> /content/drive/My Drive/gazo2020/original_data/face/stephen_curryから144個のファイル読み込み成功\n"
          ],
          "name": "stdout"
        }
      ]
    }
  ]
}