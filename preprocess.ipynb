{
  "nbformat": 4,
  "nbformat_minor": 0,
  "metadata": {
    "colab": {
      "name": "preprocess.ipynb",
      "provenance": [],
      "collapsed_sections": [],
      "toc_visible": true,
      "mount_file_id": "1uPq7NzL-eYM0WY9DYTz_9Lia9yoj5k3y",
      "authorship_tag": "ABX9TyO5Nx15s8U3tRO9OyY8zLcI",
      "include_colab_link": true
    },
    "kernelspec": {
      "name": "python3",
      "display_name": "Python 3"
    }
  },
  "cells": [
    {
      "cell_type": "markdown",
      "metadata": {
        "id": "view-in-github",
        "colab_type": "text"
      },
      "source": [
        "<a href=\"https://colab.research.google.com/github/rene-hiroki/gazoubunrui/blob/master/preprocess.ipynb\" target=\"_parent\"><img src=\"https://colab.research.google.com/assets/colab-badge.svg\" alt=\"Open In Colab\"/></a>"
      ]
    },
    {
      "cell_type": "markdown",
      "metadata": {
        "id": "SaHHN3RrTGf9",
        "colab_type": "text"
      },
      "source": [
        "# 前処理"
      ]
    },
    {
      "cell_type": "code",
      "metadata": {
        "id": "OTqKXM3cRLK4",
        "colab_type": "code",
        "colab": {
          "base_uri": "https://localhost:8080/",
          "height": 66
        },
        "outputId": "3ee917e0-a541-4f1c-a72d-e308de619143"
      },
      "source": [
        "import sys\n",
        "# sys.path.append('/content/drive/My Drive/Colab/my_project/my_modules')\n",
        "sys.path.append('/content/drive/My Drive/gazo2020/module')\n",
        "!pwd\n",
        "%cd drive/My Drive/gazo2020/original_data"
      ],
      "execution_count": 1,
      "outputs": [
        {
          "output_type": "stream",
          "text": [
            "/content\n",
            "/content/drive/My Drive/gazo2020/original_data\n",
            "/content/drive/My Drive/gazo2020/original_data\n"
          ],
          "name": "stdout"
        }
      ]
    },
    {
      "cell_type": "code",
      "metadata": {
        "id": "Jtc4-o45i5fp",
        "colab_type": "code",
        "colab": {}
      },
      "source": [
        "# import os\n",
        "\n",
        "# dirs = []\n",
        "# for char in os.listdir(\"./face\"):\n",
        "#     dirs.append(\"./face/\" + char)\n",
        "# dirs[:-1]"
      ],
      "execution_count": null,
      "outputs": []
    },
    {
      "cell_type": "code",
      "metadata": {
        "id": "6HZQkhuYTJxW",
        "colab_type": "code",
        "colab": {}
      },
      "source": [
        "import ic_module as ic\n",
        "import os.path as op\n",
        "\n",
        "i = 0\n",
        "for filename in ic.FileNames :\n",
        "    # # ディレクトリ名入力\n",
        "    while True :\n",
        "        dirname = input(\">>「\" + ic.ClassNames[i] + \"」の画像のあるディレクトリ ： \")\n",
        "        if op.isdir(dirname) :\n",
        "            break\n",
        "        print(\">> そのディレクトリは存在しません！\")\n",
        "\n",
        "    # 関数実行\n",
        "    ic.PreProcess(dirname, filename, var_amount=3)\n",
        "    i += 1\n",
        "\n",
        "# i = 0\n",
        "# for dir in dirs:\n",
        "#     dirname = dir\n",
        "#     print(\">>「\" + ic.ClassNames[i] + \"」の画像のあるディレクトリ ： \", dir)\n",
        "#     # 関数実行\n",
        "#     ic.PreProcess(dirname, filename, var_amount=3)\n",
        "#     i += 1"
      ],
      "execution_count": null,
      "outputs": []
    }
  ]
}