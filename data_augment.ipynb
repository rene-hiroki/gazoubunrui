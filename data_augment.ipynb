{
  "nbformat": 4,
  "nbformat_minor": 0,
  "metadata": {
    "colab": {
      "name": "data_augment.ipynb",
      "provenance": [],
      "toc_visible": true,
      "mount_file_id": "https://github.com/rene-hiroki/gazoubunrui/blob/master/data_augment.ipynb",
      "authorship_tag": "ABX9TyNGBstn/sKfO/TEd+N237G5",
      "include_colab_link": true
    },
    "kernelspec": {
      "name": "python3",
      "display_name": "Python 3"
    }
  },
  "cells": [
    {
      "cell_type": "markdown",
      "metadata": {
        "id": "view-in-github",
        "colab_type": "text"
      },
      "source": [
        "<a href=\"https://colab.research.google.com/github/rene-hiroki/gazoubunrui/blob/master/data_augment.ipynb\" target=\"_parent\"><img src=\"https://colab.research.google.com/assets/colab-badge.svg\" alt=\"Open In Colab\"/></a>"
      ]
    },
    {
      "cell_type": "markdown",
      "metadata": {
        "id": "N2xXKhA4cyn_",
        "colab_type": "text"
      },
      "source": [
        "## 画像水増し\n",
        "---\n",
        "\n",
        "先に取得したデータから数枚をtestフォルダに移動しておく。"
      ]
    },
    {
      "cell_type": "code",
      "metadata": {
        "id": "Q-E903D4fCVF",
        "colab_type": "code",
        "colab": {}
      },
      "source": [
        "import cv2\n",
        "import matplotlib.pyplot as plt\n",
        "import sys\n",
        "from keras.preprocessing.image import array_to_img,img_to_array,load_img\n",
        "import numpy as np\n",
        "import os\n",
        "\n",
        "!pwd\n",
        "%cd drive/My Drive/gazo2020/original_data\n",
        "cascade_path=\"../haarcascade_frontalface_alt.xml\""
      ],
      "execution_count": null,
      "outputs": []
    },
    {
      "cell_type": "code",
      "metadata": {
        "id": "3NKAcwXLdNoh",
        "colab_type": "code",
        "colab": {}
      },
      "source": [
        "\n",
        "X_train=[]\n",
        "Y_train=[]\n",
        "\n",
        "X_test=[]\n",
        "Y_test=[]\n",
        "\n",
        "l=os.listdir(\"./\")\n",
        "for i in l:\n",
        "    result_dir=i.split(\".\")[0]\n",
        "    # os.mkdirs(\"./face/\"+result_dir)\n",
        "    os.makedirs(\"./face/\"+result_dir, exist_ok=True)\n",
        "\n",
        "    m=os.listdir(\"./\"+i)\n",
        "    n=0\n",
        "    for target_file in m:\n",
        "        origin_image=(\"./\"+i+\"/\"+target_file)\n",
        "        print(origin_image)\n",
        "        cascade=cv2.CascadeClassifier(cascade_path)\n",
        "        image=cv2.imread(origin_image)\n",
        "\n",
        "        image=cv2.cvtColor(image,cv2.COLOR_BGR2RGB)\n",
        "        gray=cv2.cvtColor(image,cv2.COLOR_RGB2GRAY)\n",
        "\n",
        "        facerect=cascade.detectMultiScale(gray,scaleFactor=1.1,minNeighbors=1,minSize=(10,10))\n",
        "\n",
        "        for x,y,w,h in facerect:\n",
        "            face=gray[y:y+h,x:x+w]\n",
        "            face=cv2.resize(face,(128,128))\n",
        "            save_path=\"./face/\"+result_dir+\"/image_\"+str(n)+\".jpg\"\n",
        "            cv2.imwrite(save_path,face)\n",
        "            n=n+1\n",
        "            face=cv2.flip(face,1)\n",
        "            save_path=\"./face/\"+result_dir+\"/image_\"+str(n)+\".jpg\"\n",
        "            cv2.imwrite(save_path,face)\n",
        "            n=n+1\n",
        "            face=cv2.blur(face,(10,10))\n",
        "            save_path=\"./face/\"+result_dir+\"/image_\"+str(n)+\".jpg\"\n",
        "            cv2.imwrite(save_path,face)\n",
        "            n=n+1\n",
        "            face=cv2.blur(cv2.flip(face,1),(10,10))\n",
        "            save_path=\"./face/\"+result_dir+\"/image_\"+str(n)+\".jpg\"\n",
        "            cv2.imwrite(save_path,face)\n",
        "            n=n+1"
      ],
      "execution_count": null,
      "outputs": []
    },
    {
      "cell_type": "code",
      "metadata": {
        "id": "uMhs6nSgfGXL",
        "colab_type": "code",
        "colab": {}
      },
      "source": [
        "import matplotlib.pyplot as plt\n",
        "import sys\n",
        "from keras.preprocessing.image import array_to_img,img_to_array,load_img\n",
        "import numpy as np\n",
        "import os\n",
        "\n",
        "X_train=[]\n",
        "Y_train=[]\n",
        "\n",
        "X_test=[]\n",
        "Y_test=[]\n",
        "\n",
        "data=os.listdir(\"./face\")\n",
        "for row in data:\n",
        "    i=os.listdir(\"./face/\"+row)\n",
        "    n=0\n",
        "    for target_file in i:\n",
        "        image=(\"./face/\"+row+\"/\"+target_file)\n",
        "        if n>5:\n",
        "            temp_img=load_img(image)\n",
        "            temp_img_array=img_to_array(temp_img)\n",
        "            X_train.append(temp_img_array)\n",
        "            Y_train.append(row.split(\".\")[0])\n",
        "            n=n+1\n",
        "        else:\n",
        "            temp_img=load_img(image)\n",
        "            temp_img_array=img_to_array(temp_img)\n",
        "            X_test.append(temp_img_array)\n",
        "            Y_test.append(row.split(\".\")[0])\n",
        "            n=n+1\n",
        "\n",
        "np.savez(\"./mydatasets.npz\",x_train=X_train,y_train=Y_train,x_test=X_test,y_test=Y_test)"
      ],
      "execution_count": 6,
      "outputs": []
    },
    {
      "cell_type": "code",
      "metadata": {
        "id": "lAgjbJPQfjBb",
        "colab_type": "code",
        "colab": {}
      },
      "source": [
        ""
      ],
      "execution_count": null,
      "outputs": []
    }
  ]
}