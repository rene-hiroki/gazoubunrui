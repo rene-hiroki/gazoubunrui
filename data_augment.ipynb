{
  "nbformat": 4,
  "nbformat_minor": 0,
  "metadata": {
    "colab": {
      "name": "data_augment.ipynb",
      "provenance": [],
      "toc_visible": true,
      "authorship_tag": "ABX9TyNI7z/ytP27JDrE0u1h3UQy",
      "include_colab_link": true
    },
    "kernelspec": {
      "name": "python3",
      "display_name": "Python 3"
    }
  },
  "cells": [
    {
      "cell_type": "markdown",
      "metadata": {
        "id": "view-in-github",
        "colab_type": "text"
      },
      "source": [
        "<a href=\"https://colab.research.google.com/github/rene-hiroki/gazoubunrui/blob/master/data_augment.ipynb\" target=\"_parent\"><img src=\"https://colab.research.google.com/assets/colab-badge.svg\" alt=\"Open In Colab\"/></a>"
      ]
    },
    {
      "cell_type": "markdown",
      "metadata": {
        "id": "N2xXKhA4cyn_",
        "colab_type": "text"
      },
      "source": [
        "## 画像水増し"
      ]
    },
    {
      "cell_type": "code",
      "metadata": {
        "id": "Q-E903D4fCVF",
        "colab_type": "code",
        "colab": {
          "base_uri": "https://localhost:8080/",
          "height": 33
        },
        "outputId": "5d9b2dae-c996-4d70-d151-0a157c28e400"
      },
      "source": [
        "import cv2\n",
        "import matplotlib.pyplot as plt\n",
        "import sys\n",
        "from keras.preprocessing.image import array_to_img,img_to_array,load_img\n",
        "import numpy as np\n",
        "import os\n",
        "\n",
        "!pwd\n",
        "# haarcascade_frontalface_alt.xml このファイルはoriginal_dataと同列の場所に置く。\n",
        "cascade_path=\"../haarcascade_frontalface_alt.xml\""
      ],
      "execution_count": null,
      "outputs": [
        {
          "output_type": "stream",
          "text": [
            "/content/drive/My Drive/gazo2020/original_data\n"
          ],
          "name": "stdout"
        }
      ]
    },
    {
      "cell_type": "code",
      "metadata": {
        "id": "3NKAcwXLdNoh",
        "colab_type": "code",
        "colab": {
          "base_uri": "https://localhost:8080/",
          "height": 1000
        },
        "outputId": "39a03017-3716-4585-9391-da4ce9b98d4d"
      },
      "source": [
        "\n",
        "X_train=[]\n",
        "Y_train=[]\n",
        "\n",
        "X_test=[]\n",
        "Y_test=[]\n",
        "\n",
        "l=os.listdir(\"./\")\n",
        "for i in l:\n",
        "    result_dir=i.split(\".\")[0]\n",
        "    os.mkdir(\"./face/\"+result_dir)\n",
        "\n",
        "    m=os.listdir(\"./\"+i)\n",
        "    n=0\n",
        "    for target_file in m:\n",
        "        origin_image=(\"./\"+i+\"/\"+target_file)\n",
        "        print(origin_image)\n",
        "        cascade=cv2.CascadeClassifier(cascade_path)\n",
        "        image=cv2.imread(origin_image)\n",
        "\n",
        "        image=cv2.cvtColor(image,cv2.COLOR_BGR2RGB)\n",
        "        gray=cv2.cvtColor(image,cv2.COLOR_RGB2GRAY)\n",
        "\n",
        "        facerect=cascade.detectMultiScale(gray,scaleFactor=1.1,minNeighbors=1,minSize=(10,10))\n",
        "\n",
        "        for x,y,w,h in facerect:\n",
        "            face=gray[y:y+h,x:x+w]\n",
        "            face=cv2.resize(face,(128,128))\n",
        "            save_path=\"./face/\"+result_dir+\"/image_\"+str(n)+\".jpg\"\n",
        "            cv2.imwrite(save_path,face)\n",
        "            n=n+1\n",
        "            face=cv2.flip(face,1)\n",
        "            save_path=\"./face/\"+result_dir+\"/image_\"+str(n)+\".jpg\"\n",
        "            cv2.imwrite(save_path,face)\n",
        "            n=n+1\n",
        "            face=cv2.blur(face,(10,10))\n",
        "            save_path=\"./face/\"+result_dir+\"/image_\"+str(n)+\".jpg\"\n",
        "            cv2.imwrite(save_path,face)\n",
        "            n=n+1\n",
        "            face=cv2.blur(cv2.flip(face,1),(10,10))\n",
        "            save_path=\"./face/\"+result_dir+\"/image_\"+str(n)+\".jpg\"\n",
        "            cv2.imwrite(save_path,face)\n",
        "            n=n+1"
      ],
      "execution_count": null,
      "outputs": [
        {
          "output_type": "stream",
          "text": [
            "./test/000002 (1).jpg\n"
          ],
          "name": "stdout"
        },
        {
          "output_type": "stream",
          "text": [
            "2020-08-26 07:02:50,102 - INFO - downloader - downloader-001 is waiting for new download tasks\n"
          ],
          "name": "stderr"
        },
        {
          "output_type": "stream",
          "text": [
            "./test/000006 (1).jpg\n",
            "./test/000002.jpg\n"
          ],
          "name": "stdout"
        },
        {
          "output_type": "stream",
          "text": [
            "2020-08-26 07:02:55,104 - INFO - downloader - downloader-001 is waiting for new download tasks\n"
          ],
          "name": "stderr"
        },
        {
          "output_type": "stream",
          "text": [
            "./test/000006.jpg\n"
          ],
          "name": "stdout"
        },
        {
          "output_type": "stream",
          "text": [
            "2020-08-26 07:03:00,107 - INFO - downloader - downloader-001 is waiting for new download tasks\n"
          ],
          "name": "stderr"
        },
        {
          "output_type": "stream",
          "text": [
            "./test/000002 (2).jpg\n",
            "./test/000003.jpg\n",
            "./kobe_bryant/000001.jpg\n",
            "./kobe_bryant/000003.jpg\n",
            "./kobe_bryant/000004.jpg\n"
          ],
          "name": "stdout"
        },
        {
          "output_type": "stream",
          "text": [
            "2020-08-26 07:03:05,115 - INFO - downloader - downloader-001 is waiting for new download tasks\n",
            "2020-08-26 07:03:10,119 - INFO - downloader - downloader-001 is waiting for new download tasks\n",
            "2020-08-26 07:03:15,126 - INFO - downloader - downloader-001 is waiting for new download tasks\n"
          ],
          "name": "stderr"
        },
        {
          "output_type": "stream",
          "text": [
            "./kobe_bryant/000005.jpg\n",
            "./kobe_bryant/000007.jpg\n",
            "./kobe_bryant/000008.jpg\n",
            "./kobe_bryant/000009.jpg\n"
          ],
          "name": "stdout"
        },
        {
          "output_type": "stream",
          "text": [
            "2020-08-26 07:03:20,132 - INFO - downloader - downloader-001 is waiting for new download tasks\n"
          ],
          "name": "stderr"
        },
        {
          "output_type": "stream",
          "text": [
            "./kobe_bryant/000010.jpg\n",
            "./kobe_bryant/000011.jpg\n",
            "./kobe_bryant/000012.jpg\n",
            "./kobe_bryant/000013.jpg\n",
            "./kobe_bryant/000014.jpg\n"
          ],
          "name": "stdout"
        },
        {
          "output_type": "stream",
          "text": [
            "2020-08-26 07:03:25,137 - INFO - downloader - downloader-001 is waiting for new download tasks\n"
          ],
          "name": "stderr"
        },
        {
          "output_type": "stream",
          "text": [
            "./kobe_bryant/000015.jpg\n",
            "./kobe_bryant/000016.jpg\n",
            "./kobe_bryant/000017.jpg\n",
            "./kobe_bryant/000018.jpg\n",
            "./kobe_bryant/000019.jpg\n",
            "./kobe_bryant/000020.jpg\n",
            "./stephen_curry/000001.jpg\n"
          ],
          "name": "stdout"
        },
        {
          "output_type": "stream",
          "text": [
            "2020-08-26 07:03:30,139 - INFO - downloader - downloader-001 is waiting for new download tasks\n"
          ],
          "name": "stderr"
        },
        {
          "output_type": "stream",
          "text": [
            "./stephen_curry/000003.jpg\n"
          ],
          "name": "stdout"
        },
        {
          "output_type": "stream",
          "text": [
            "2020-08-26 07:03:35,143 - INFO - downloader - downloader-001 is waiting for new download tasks\n"
          ],
          "name": "stderr"
        },
        {
          "output_type": "stream",
          "text": [
            "./stephen_curry/000004.jpg\n",
            "./stephen_curry/000005.jpg\n",
            "./stephen_curry/000007.jpg\n",
            "./stephen_curry/000008.jpg\n"
          ],
          "name": "stdout"
        },
        {
          "output_type": "stream",
          "text": [
            "2020-08-26 07:03:40,144 - INFO - downloader - downloader-001 is waiting for new download tasks\n"
          ],
          "name": "stderr"
        },
        {
          "output_type": "stream",
          "text": [
            "./stephen_curry/000009.jpg\n"
          ],
          "name": "stdout"
        },
        {
          "output_type": "stream",
          "text": [
            "2020-08-26 07:03:45,150 - INFO - downloader - downloader-001 is waiting for new download tasks\n"
          ],
          "name": "stderr"
        },
        {
          "output_type": "stream",
          "text": [
            "./stephen_curry/000010.jpg\n"
          ],
          "name": "stdout"
        },
        {
          "output_type": "stream",
          "text": [
            "2020-08-26 07:03:50,152 - INFO - downloader - downloader-001 is waiting for new download tasks\n",
            "2020-08-26 07:03:55,156 - INFO - downloader - downloader-001 is waiting for new download tasks\n"
          ],
          "name": "stderr"
        },
        {
          "output_type": "stream",
          "text": [
            "./stephen_curry/000011.jpg\n",
            "./stephen_curry/000012.jpg\n",
            "./stephen_curry/000013.jpg\n",
            "./stephen_curry/000014.jpg\n"
          ],
          "name": "stdout"
        },
        {
          "output_type": "stream",
          "text": [
            "2020-08-26 07:04:00,158 - INFO - downloader - downloader-001 is waiting for new download tasks\n"
          ],
          "name": "stderr"
        },
        {
          "output_type": "stream",
          "text": [
            "./stephen_curry/000015.jpg\n"
          ],
          "name": "stdout"
        },
        {
          "output_type": "stream",
          "text": [
            "2020-08-26 07:04:05,164 - INFO - downloader - downloader-001 is waiting for new download tasks\n"
          ],
          "name": "stderr"
        },
        {
          "output_type": "stream",
          "text": [
            "./stephen_curry/000016.jpg\n",
            "./stephen_curry/000017.jpg\n",
            "./stephen_curry/000018.jpg\n",
            "./stephen_curry/000019.jpg\n"
          ],
          "name": "stdout"
        },
        {
          "output_type": "stream",
          "text": [
            "2020-08-26 07:04:10,170 - INFO - downloader - downloader-001 is waiting for new download tasks\n"
          ],
          "name": "stderr"
        },
        {
          "output_type": "stream",
          "text": [
            "./stephen_curry/000020.jpg\n",
            "./russell_westbrook/000001.jpg\n",
            "./russell_westbrook/000004.jpg\n"
          ],
          "name": "stdout"
        },
        {
          "output_type": "stream",
          "text": [
            "2020-08-26 07:04:15,171 - INFO - downloader - downloader-001 is waiting for new download tasks\n"
          ],
          "name": "stderr"
        },
        {
          "output_type": "stream",
          "text": [
            "./russell_westbrook/000005.jpg\n",
            "./russell_westbrook/000006.jpg\n",
            "./russell_westbrook/000007.jpg\n"
          ],
          "name": "stdout"
        },
        {
          "output_type": "stream",
          "text": [
            "2020-08-26 07:04:20,173 - INFO - downloader - downloader-001 is waiting for new download tasks\n"
          ],
          "name": "stderr"
        },
        {
          "output_type": "stream",
          "text": [
            "./russell_westbrook/000008.jpg\n",
            "./russell_westbrook/000009.jpg\n",
            "./russell_westbrook/000010.jpg\n",
            "./russell_westbrook/000011.jpg\n"
          ],
          "name": "stdout"
        },
        {
          "output_type": "stream",
          "text": [
            "2020-08-26 07:04:25,180 - INFO - downloader - downloader-001 is waiting for new download tasks\n"
          ],
          "name": "stderr"
        },
        {
          "output_type": "stream",
          "text": [
            "./russell_westbrook/000012.jpg\n",
            "./russell_westbrook/000013.jpg\n"
          ],
          "name": "stdout"
        },
        {
          "output_type": "stream",
          "text": [
            "2020-08-26 07:04:30,181 - INFO - downloader - downloader-001 is waiting for new download tasks\n"
          ],
          "name": "stderr"
        },
        {
          "output_type": "stream",
          "text": [
            "./russell_westbrook/000014.jpg\n"
          ],
          "name": "stdout"
        },
        {
          "output_type": "stream",
          "text": [
            "2020-08-26 07:04:35,187 - INFO - downloader - downloader-001 is waiting for new download tasks\n",
            "2020-08-26 07:04:40,192 - INFO - downloader - downloader-001 is waiting for new download tasks\n"
          ],
          "name": "stderr"
        },
        {
          "output_type": "stream",
          "text": [
            "./russell_westbrook/000015.jpg\n",
            "./russell_westbrook/000016.jpg\n"
          ],
          "name": "stdout"
        },
        {
          "output_type": "stream",
          "text": [
            "2020-08-26 07:04:45,195 - INFO - downloader - downloader-001 is waiting for new download tasks\n"
          ],
          "name": "stderr"
        },
        {
          "output_type": "stream",
          "text": [
            "./russell_westbrook/000017.jpg\n",
            "./russell_westbrook/000018.jpg\n"
          ],
          "name": "stdout"
        },
        {
          "output_type": "stream",
          "text": [
            "2020-08-26 07:04:50,197 - INFO - downloader - downloader-001 is waiting for new download tasks\n"
          ],
          "name": "stderr"
        },
        {
          "output_type": "stream",
          "text": [
            "./russell_westbrook/000019.jpg\n"
          ],
          "name": "stdout"
        },
        {
          "output_type": "stream",
          "text": [
            "2020-08-26 07:04:55,200 - INFO - downloader - downloader-001 is waiting for new download tasks\n",
            "2020-08-26 07:05:00,204 - INFO - downloader - downloader-001 is waiting for new download tasks\n"
          ],
          "name": "stderr"
        },
        {
          "output_type": "stream",
          "text": [
            "./russell_westbrook/000020.jpg\n"
          ],
          "name": "stdout"
        }
      ]
    },
    {
      "cell_type": "code",
      "metadata": {
        "id": "uMhs6nSgfGXL",
        "colab_type": "code",
        "colab": {
          "base_uri": "https://localhost:8080/",
          "height": 53
        },
        "outputId": "85569c7c-c57d-47cb-cadc-9a1b4b029663"
      },
      "source": [
        "import matplotlib.pyplot as plt\n",
        "import sys\n",
        "from keras.preprocessing.image import array_to_img,img_to_array,load_img\n",
        "import numpy as np\n",
        "import os\n",
        "\n",
        "X_train=[]\n",
        "Y_train=[]\n",
        "\n",
        "X_test=[]\n",
        "Y_test=[]\n",
        "\n",
        "data=os.listdir(\"./face\")\n",
        "for row in data:\n",
        "    i=os.listdir(\"./face/\"+row)\n",
        "    n=0\n",
        "    for target_file in i:\n",
        "        image=(\"./face/\"+row+\"/\"+target_file)\n",
        "        if n>5:\n",
        "            temp_img=load_img(image)\n",
        "            temp_img_array=img_to_array(temp_img)\n",
        "            X_train.append(temp_img_array)\n",
        "            Y_train.append(row.split(\".\")[0])\n",
        "            n=n+1\n",
        "        else:\n",
        "            temp_img=load_img(image)\n",
        "            temp_img_array=img_to_array(temp_img)\n",
        "            X_test.append(temp_img_array)\n",
        "            Y_test.append(row.split(\".\")[0])\n",
        "            n=n+1\n",
        "\n",
        "np.savez(\"./mydatasets.npz\",x_train=X_train,y_train=Y_train,x_test=X_test,y_test=Y_test)"
      ],
      "execution_count": null,
      "outputs": [
        {
          "output_type": "stream",
          "text": [
            "2020-08-26 07:05:10,209 - INFO - downloader - downloader-001 is waiting for new download tasks\n"
          ],
          "name": "stderr"
        }
      ]
    },
    {
      "cell_type": "code",
      "metadata": {
        "id": "lAgjbJPQfjBb",
        "colab_type": "code",
        "colab": {}
      },
      "source": [
        ""
      ],
      "execution_count": null,
      "outputs": []
    }
  ]
}